{
  "cells": [
    {
      "cell_type": "code",
      "execution_count": null,
      "metadata": {
        "id": "CP3aFSVGaKIE"
      },
      "outputs": [],
      "source": [
        "#@title Configuration Parameters\n",
        "\n",
        "# NOTE: hyper-parameters must be tunned for best performance\n",
        "\n",
        "#@markdown General Parameters\n",
        "verbose = True        #@param {type: \"boolean\"}\n",
        "seed = 1234           #@param {type: \"integer\"}\n",
        "\n",
        "#@markdown DeepONet parameters\n",
        "m = 200                  #@param {type: \"integer\"} # of sensors  \n",
        "q = 10                   #@param {type: \"integer\"} # of sampling y's in Y\n",
        "n_basis = 100            #@param {type: \"integer\"} # of basis functions  \n",
        "branch_type = \"modified\" #@param [\"modified\", \"MLP\"]\n",
        "trunk_type = \"modified\"  #@param [\"modified\", \"MLP\"]\n",
        "width = 200              #@param {type: \"integer\"}\n",
        "depth = 3                #@param {type: \"integer\"}\n",
        "activation = \"sin\"       #@param [\"leaky\", \"silu\", \"Rrelu\", \"Mish\", \"sin\", \"relu\", \"tanh\", \"selu\", \"gelu\"]\n",
        "\n",
        "#@markdown training parameters\n",
        "learning_rate = 5e-5     #@param {type: \"raw\"}\n",
        "batch_size = 1000        #@param {type: \"integer\"}\n",
        "n_epochs = 5000          #@param {type: \"integer\"}\n",
        "\n",
        "#@markdown Data parameters\n",
        "version = \"v1\"\n",
        "state = \"voltage\"\n",
        "cont = \"mix\""
      ]
    },
    {
      "cell_type": "code",
      "execution_count": null,
      "metadata": {
        "id": "d2dJIXiraig0"
      },
      "outputs": [],
      "source": [
        "#@title Imports\n",
        "import numpy as np\n",
        "import torch\n",
        "\n",
        "import utils.pytorch_utils as ptu\n",
        "\n",
        "from models.nns import prob_DeepONet\n",
        "from training.supervisor import probabilistic_train\n",
        "from utils.data_structures import data_generator, get_data, get_traj_data\n",
        "from utils.utils import compute_metrics, fraction_in_CI, l1_relative_error, l2_relative_error, plot_pred_UQ, test, test_one, trajectory_rel_error, update_metrics_history"
      ]
    },
    {
      "cell_type": "code",
      "execution_count": null,
      "metadata": {
        "colab": {
          "base_uri": "https://localhost:8080/"
        },
        "id": "WAdtwvkgamMM",
        "outputId": "664c6a9c-87ce-492d-919e-b811899e6381"
      },
      "outputs": [
        {
          "name": "stdout",
          "output_type": "stream",
          "text": [
            "Using GPU id 0\n"
          ]
        },
        {
          "data": {
            "text/plain": [
              "<torch._C.Generator at 0x7ffb9c0b53d0>"
            ]
          },
          "execution_count": 4,
          "metadata": {},
          "output_type": "execute_result"
        }
      ],
      "source": [
        "#@title Main\n",
        "###################################\n",
        "# Step 1: initialize the device\n",
        "###################################\n",
        "ptu.init_gpu(verbose=verbose)\n",
        "\n",
        "###################################\n",
        "# Step 2: initialize the device\n",
        "###################################\n",
        "np.random.seed(seed=seed)\n",
        "torch.manual_seed(seed)"
      ]
    },
    {
      "cell_type": "code",
      "execution_count": null,
      "metadata": {
        "colab": {
          "base_uri": "https://localhost:8080/"
        },
        "id": "UfZbMKXWcoZD",
        "outputId": "498cf543-bdef-4d06-fe3c-219941d4f4b4"
      },
      "outputs": [
        {
          "name": "stdout",
          "output_type": "stream",
          "text": [
            "Shapes are: u (17490, 200), y (17490, 1), and s (17490, 1)\n",
            "Shapes are: u (600, 200), y (600, 1), and s (600, 1)\n",
            "the number of testing trajectories is 750\n"
          ]
        }
      ],
      "source": [
        "###################################\n",
        "# Step 3: get training and test trajectory data\n",
        "###################################\n",
        "train_path = \"./data/trustworthydataset\" + version + \"/train-data-\" + state + \"-m-\" + str(m) + \"-Q-\" + str(q) + \"-\" + cont + \".npz\"\n",
        "test_path = \"./data/trustworthydataset\" + version + \"/test-data-\" + state + \"-m-\" + str(m) + \"-\" + cont + \".npz\"\n",
        "\n",
        "u_train, y_train, s_train, t_sim = get_data(train_path, verbose=verbose)\n",
        "u_test, y_test, s_test = get_traj_data(test_path, verbose=verbose)\n",
        "\n",
        "if verbose:\n",
        "    print(\"the number of testing trajectories is {}\".format(len(u_test)))"
      ]
    },
    {
      "cell_type": "code",
      "execution_count": null,
      "metadata": {
        "id": "FvpYFPb3elXT"
      },
      "outputs": [],
      "source": [
        "###################################\n",
        "# Step 4: move data to torch\n",
        "###################################\n",
        "u_torch_train = torch.from_numpy(u_train).float().to(ptu.device)\n",
        "y_torch_train = torch.from_numpy(y_train).float().to(ptu.device)\n",
        "s_torch_train = torch.from_numpy(s_train).float().to(ptu.device)\n",
        "\n",
        "# test data\n",
        "u_torch_test = []\n",
        "y_torch_test = []\n",
        "\n",
        "for k in range(len(u_test)):\n",
        "    u_torch_test.append(torch.from_numpy(u_test[k]).float().to(ptu.device))\n",
        "    y_torch_test.append(torch.from_numpy(y_test[k]).float().to(ptu.device))\n",
        "\n",
        "###################################\n",
        "# Step 5: define torch dataset\n",
        "###################################\n",
        "torch_data = data_generator(u_torch_train, y_torch_train, s_torch_train)"
      ]
    },
    {
      "cell_type": "code",
      "execution_count": null,
      "metadata": {
        "colab": {
          "base_uri": "https://localhost:8080/"
        },
        "id": "BEwVLRcDfVSv",
        "outputId": "eb51f5d6-9031-4195-c019-04f205005ff7"
      },
      "outputs": [
        {
          "name": "stdout",
          "output_type": "stream",
          "text": [
            "prob_DeepONet(\n",
            "  (branch): modified_MLP(\n",
            "    (net): ModuleList(\n",
            "      (0): Linear(in_features=200, out_features=200, bias=True)\n",
            "      (1): Linear(in_features=200, out_features=200, bias=True)\n",
            "    )\n",
            "    (U): Sequential(\n",
            "      (0): Linear(in_features=200, out_features=200, bias=True)\n",
            "    )\n",
            "    (V): Sequential(\n",
            "      (0): Linear(in_features=200, out_features=200, bias=True)\n",
            "    )\n",
            "    (activation): sin_act()\n",
            "  )\n",
            "  (trunk): modified_MLP(\n",
            "    (net): ModuleList(\n",
            "      (0): Linear(in_features=1, out_features=200, bias=True)\n",
            "      (1): Linear(in_features=200, out_features=200, bias=True)\n",
            "    )\n",
            "    (U): Sequential(\n",
            "      (0): Linear(in_features=1, out_features=200, bias=True)\n",
            "    )\n",
            "    (V): Sequential(\n",
            "      (0): Linear(in_features=1, out_features=200, bias=True)\n",
            "    )\n",
            "    (activation): sin_act()\n",
            "  )\n",
            "  (branch_mu): Sequential(\n",
            "    (0): sin_act()\n",
            "    (1): Linear(in_features=200, out_features=200, bias=True)\n",
            "    (2): sin_act()\n",
            "    (3): Linear(in_features=200, out_features=100, bias=True)\n",
            "  )\n",
            "  (branch_std): Sequential(\n",
            "    (0): sin_act()\n",
            "    (1): Linear(in_features=200, out_features=200, bias=True)\n",
            "    (2): sin_act()\n",
            "    (3): Linear(in_features=200, out_features=100, bias=True)\n",
            "  )\n",
            "  (trunk_mu): Sequential(\n",
            "    (0): sin_act()\n",
            "    (1): Linear(in_features=200, out_features=200, bias=True)\n",
            "    (2): sin_act()\n",
            "    (3): Linear(in_features=200, out_features=100, bias=True)\n",
            "  )\n",
            "  (trunk_std): Sequential(\n",
            "    (0): sin_act()\n",
            "    (1): Linear(in_features=200, out_features=200, bias=True)\n",
            "    (2): sin_act()\n",
            "    (3): Linear(in_features=200, out_features=100, bias=True)\n",
            "  )\n",
            ")\n"
          ]
        }
      ],
      "source": [
        "###################################\n",
        "# Step 6: build prob-DeepONet\n",
        "###################################\n",
        "dim = 1\n",
        "n_sensors = m\n",
        "\n",
        "branch = {}\n",
        "branch[\"type\"] = branch_type\n",
        "branch[\"layer_size\"] = [n_sensors] + [width] * depth + [n_basis]\n",
        "branch[\"activation\"] = activation\n",
        "\n",
        "trunk = {}\n",
        "trunk[\"type\"] = trunk_type\n",
        "trunk[\"layer_size\"] = [dim] + [width] * depth + [n_basis]\n",
        "trunk[\"activation\"] = activation\n",
        "\n",
        "model = prob_DeepONet(branch, trunk).to(ptu.device)\n",
        "\n",
        "if verbose:\n",
        "    print(model)"
      ]
    },
    {
      "cell_type": "code",
      "execution_count": null,
      "metadata": {
        "colab": {
          "base_uri": "https://localhost:8080/"
        },
        "id": "hUHjXk-RpkuR",
        "outputId": "b64f00bc-12eb-40ec-cbe5-a03504e68d5b"
      },
      "outputs": [
        {
          "name": "stdout",
          "output_type": "stream",
          "text": [
            "l1-relative errors: max=407.816, min=268.787, mean=367.748\n",
            "l2-relative errors: max=422.025, min=283.055, mean=383.488\n"
          ]
        }
      ],
      "source": [
        "###################################\n",
        "# Step 7: define training parameters\n",
        "###################################\n",
        "train_params = {}\n",
        "train_params[\"learning rate\"] = learning_rate\n",
        "train_params[\"batch size\"] = batch_size\n",
        "train_params[\"epochs\"] = n_epochs\n",
        "train_params[\"print every\"] = 10\n",
        "train_params[\"eval every\"] = 1\n",
        "\n",
        "###################################\n",
        "# Step 8: define scheduler parameters\n",
        "###################################\n",
        "scheduler_params = {}\n",
        "scheduler_params[\"patience\"] = 1000\n",
        "scheduler_params[\"factor\"] = 0.8\n",
        "\n",
        "###################################\n",
        "# Step 9: define metrics and losses\n",
        "###################################\n",
        "metrics = [l1_relative_error, l2_relative_error]\n",
        "L1_history = {}\n",
        "L1_history[\"max\"] = []\n",
        "L1_history[\"min\"] = []\n",
        "L1_history[\"mean\"] = []\n",
        "L2_history = {}\n",
        "L2_history[\"max\"] = []\n",
        "L2_history[\"min\"] = []\n",
        "L2_history[\"mean\"] = []\n",
        "\n",
        "###################################\n",
        "# Step 10: initial test\n",
        "###################################\n",
        "n_test_samples = 100\n",
        "u_torch_test_100 = u_torch_test[:n_test_samples]\n",
        "y_torch_test_100 = y_torch_test[:n_test_samples]\n",
        "s_test_100 = s_test[:n_test_samples]\n",
        "\n",
        "# we perform an initial test for the probabilistic model\n",
        "s_pred, sigma_pred = test(model, u_torch_test_100, y_torch_test_100)\n",
        "metrics_state = compute_metrics(s_test_100, s_pred, metrics, verbose=verbose)\n",
        "L1_history = update_metrics_history(L1_history, metrics_state[0])\n",
        "L2_history = update_metrics_history(L2_history, metrics_state[1])\n",
        "del metrics_state"
      ]
    },
    {
      "cell_type": "code",
      "execution_count": null,
      "metadata": {
        "colab": {
          "base_uri": "https://localhost:8080/",
          "height": 131,
          "referenced_widgets": [
            "01915b24f0c6478e9af4a6cf24f114bd",
            "43ffc30e74b24d2dbaff83acb10b2d54",
            "b76d486357ce4efa9574d34e8535b7fe",
            "e2c9401a22e74bad854ca7ab88afc8b1",
            "9d0d2437b0fd486c9bac3a8d5fbaafe3",
            "71439a1474dc4adaa337d611538c7e94",
            "26845ca347db48ef9a852bc581700bf9",
            "5c1f8c053c5b4228a46f54ceb16498fb",
            "dc4d77a0f33b4f3d8125c9abccee59c4",
            "92f63d3a6f4f422c8b3c670c27ec1a56",
            "94fd72ce81da4dcdb87135f29a777ee3"
          ]
        },
        "id": "FIJXprmjF8nU",
        "outputId": "c9702b9d-11a7-4b5a-b613-c2a262ac40af"
      },
      "outputs": [
        {
          "name": "stdout",
          "output_type": "stream",
          "text": [
            "\n",
            "***** Probabilistic Training for 5000 epochs and using 17490 data samples*****\n",
            "\n"
          ]
        },
        {
          "data": {
            "application/vnd.jupyter.widget-view+json": {
              "model_id": "01915b24f0c6478e9af4a6cf24f114bd",
              "version_major": 2,
              "version_minor": 0
            },
            "text/plain": [
              "  0%|          | 0/5000 [00:00<?, ?it/s]"
            ]
          },
          "metadata": {},
          "output_type": "display_data"
        }
      ],
      "source": [
        "###################################\n",
        "# Step 11: training\n",
        "###################################\n",
        "\n",
        "logging_file = \"./output/best-model.pt\"\n",
        "\n",
        "logger, loss_history = probabilistic_train(\n",
        "    model,\n",
        "    torch_data,\n",
        "    train_params,\n",
        "    scheduler_params=scheduler_params,\n",
        "    verbose=verbose,\n",
        "    test_data=(u_torch_test_100, y_torch_test_100, s_test_100),\n",
        "    loss_history=(L1_history, L2_history),\n",
        "    metrics=metrics,\n",
        "    logging_file=logging_file,\n",
        "    )"
      ]
    },
    {
      "cell_type": "code",
      "execution_count": null,
      "metadata": {
        "id": "yKKPCCahL3cn"
      },
      "outputs": [],
      "source": [
        "#@title Postprocessing\n",
        "import matplotlib.pyplot as plt \n",
        "\n",
        "plt.figure()\n",
        "plt.plot(logger[\"prob loss\"])\n",
        "plt.xlabel(\"epoch\")\n",
        "plt.ylabel(\"loss\")\n",
        "plt.show()\n",
        "\n",
        "# L1 plot\n",
        "plt.figure()\n",
        "plt.plot(L1_history[\"mean\"], \"r-\", label = \"Probabilistic\")\n",
        "plt.legend(framealpha=1, frameon=False)\n",
        "plt.xlabel(\"epochs\")\n",
        "plt.ylabel(\"$L^1$ mean relative error %\")\n",
        "plt.title(\"$L^1$ error\")\n",
        "plt.show()\n",
        "\n",
        "# L2 plot\n",
        "plt.figure()\n",
        "plt.plot(L2_history[\"mean\"], \"r-\", label = \"Probabilistic\")\n",
        "plt.legend(framealpha=1, frameon=False)\n",
        "plt.xlabel(\"epochs\")\n",
        "plt.ylabel(\"$L^2$ mean relative error %\")\n",
        "plt.title(\"$L^2$ error\")\n",
        "plt.show()"
      ]
    },
    {
      "cell_type": "code",
      "execution_count": null,
      "metadata": {
        "id": "Md7TwKIu4N3U"
      },
      "outputs": [],
      "source": [
        "#@title Testing and UQ\n",
        "###################################\n",
        "# Step 1: restore best model\n",
        "###################################\n",
        "check_point = ptu.restore(logging_file)\n",
        "state_dict = check_point['state_dict']\n",
        "model.load_state_dict(state_dict)\n",
        "model.to(ptu.device);\n",
        "\n",
        "L1_test = []\n",
        "L2_test = []\n",
        "mean_test = []\n",
        "std_test = []\n",
        "ratios = []\n",
        "\n",
        "###################################\n",
        "# Step 2: define input and number of test trajectories\n",
        "###################################\n",
        "t_input = np.linspace(0, 2.0, num=m)[:, None]\n",
        "n_test_trajs = 100\n",
        "plot_num_traj = [1, 35, 48]"
      ]
    },
    {
      "cell_type": "code",
      "execution_count": null,
      "metadata": {
        "id": "S2cBlt1Q6wbT"
      },
      "outputs": [],
      "source": [
        "###################################\n",
        "# Step 3: compute errors and plot confidence intervals\n",
        "###################################\n",
        "for k in range(n_test_trajs):\n",
        "    mean_k, std_k = test_one(model, u_torch_test[k], y_torch_test[k]) \n",
        "    mean_test.append(mean_k)\n",
        "    std_test.append(std_k)\n",
        "    \n",
        "    if k in plot_num_traj:\n",
        "        plot_pred_UQ(t_input, u_test[k][0,:], y_test[k], s_test[k], mean_k, std_k, xlabel=\"$time~(s)$\", ylabel=\"voltage (p.u.)\", v_lims=False)\n",
        "        l1_error, l2_error = trajectory_rel_error(s_test[k], mean_k, verbose=True)\n",
        "        ratio = fraction_in_CI(s_test[k], mean_k, std_k, verbose=True)        \n",
        "    else:\n",
        "        l1_error, l2_error = trajectory_rel_error(s_test[k], mean_k, verbose=False)\n",
        "        ratio = fraction_in_CI(s_test[k], mean_k, std_k, verbose=False)\n",
        "    L1_test.append(l1_error)\n",
        "    L2_test.append(l2_error)\n",
        "    ratios.append(ratio)\n",
        "    \n",
        "if verbose:\n",
        "    mean_L1 = np.round(100 * np.mean(L1_test), decimals=5)\n",
        "    mean_L2 = np.round(100 * np.mean(L2_test), decimals=5)\n",
        "    std_L1 = np.round(100 * np.std(L1_test), decimals=5)\n",
        "    std_L2 = np.round(100 * np.std(L2_test), decimals=5)\n",
        "    print(\"Best mean relative errors: L1={} and L2={}\".format(mean_L1, mean_L2))\n",
        "    print(\"Standard deviation of relative errors: L1={} and L2={}\".format(std_L1, std_L2))\n",
        "    \n",
        "if verbose:\n",
        "    print(\"ratios-[max, min, mean] = [{},{},{}]\".format(100 * np.max(ratios), 100 * np.min(ratios), 100 * np.mean(ratios)))"
      ]
    }
  ],
  "metadata": {
    "colab": {
      "provenance": []
    },
    "gpuClass": "standard",
    "kernelspec": {
      "display_name": "Python 3",
      "name": "python3"
    },
    "language_info": {
      "name": "python"
    },
    "widgets": {
      "application/vnd.jupyter.widget-state+json": {
        "01915b24f0c6478e9af4a6cf24f114bd": {
          "model_module": "@jupyter-widgets/controls",
          "model_module_version": "1.5.0",
          "model_name": "HBoxModel",
          "state": {
            "_dom_classes": [],
            "_model_module": "@jupyter-widgets/controls",
            "_model_module_version": "1.5.0",
            "_model_name": "HBoxModel",
            "_view_count": null,
            "_view_module": "@jupyter-widgets/controls",
            "_view_module_version": "1.5.0",
            "_view_name": "HBoxView",
            "box_style": "",
            "children": [
              "IPY_MODEL_43ffc30e74b24d2dbaff83acb10b2d54",
              "IPY_MODEL_b76d486357ce4efa9574d34e8535b7fe",
              "IPY_MODEL_e2c9401a22e74bad854ca7ab88afc8b1"
            ],
            "layout": "IPY_MODEL_9d0d2437b0fd486c9bac3a8d5fbaafe3"
          }
        },
        "26845ca347db48ef9a852bc581700bf9": {
          "model_module": "@jupyter-widgets/controls",
          "model_module_version": "1.5.0",
          "model_name": "DescriptionStyleModel",
          "state": {
            "_model_module": "@jupyter-widgets/controls",
            "_model_module_version": "1.5.0",
            "_model_name": "DescriptionStyleModel",
            "_view_count": null,
            "_view_module": "@jupyter-widgets/base",
            "_view_module_version": "1.2.0",
            "_view_name": "StyleView",
            "description_width": ""
          }
        },
        "43ffc30e74b24d2dbaff83acb10b2d54": {
          "model_module": "@jupyter-widgets/controls",
          "model_module_version": "1.5.0",
          "model_name": "HTMLModel",
          "state": {
            "_dom_classes": [],
            "_model_module": "@jupyter-widgets/controls",
            "_model_module_version": "1.5.0",
            "_model_name": "HTMLModel",
            "_view_count": null,
            "_view_module": "@jupyter-widgets/controls",
            "_view_module_version": "1.5.0",
            "_view_name": "HTMLView",
            "description": "",
            "description_tooltip": null,
            "layout": "IPY_MODEL_71439a1474dc4adaa337d611538c7e94",
            "placeholder": "​",
            "style": "IPY_MODEL_26845ca347db48ef9a852bc581700bf9",
            "value": " 94%"
          }
        },
        "5c1f8c053c5b4228a46f54ceb16498fb": {
          "model_module": "@jupyter-widgets/base",
          "model_module_version": "1.2.0",
          "model_name": "LayoutModel",
          "state": {
            "_model_module": "@jupyter-widgets/base",
            "_model_module_version": "1.2.0",
            "_model_name": "LayoutModel",
            "_view_count": null,
            "_view_module": "@jupyter-widgets/base",
            "_view_module_version": "1.2.0",
            "_view_name": "LayoutView",
            "align_content": null,
            "align_items": null,
            "align_self": null,
            "border": null,
            "bottom": null,
            "display": null,
            "flex": null,
            "flex_flow": null,
            "grid_area": null,
            "grid_auto_columns": null,
            "grid_auto_flow": null,
            "grid_auto_rows": null,
            "grid_column": null,
            "grid_gap": null,
            "grid_row": null,
            "grid_template_areas": null,
            "grid_template_columns": null,
            "grid_template_rows": null,
            "height": null,
            "justify_content": null,
            "justify_items": null,
            "left": null,
            "margin": null,
            "max_height": null,
            "max_width": null,
            "min_height": null,
            "min_width": null,
            "object_fit": null,
            "object_position": null,
            "order": null,
            "overflow": null,
            "overflow_x": null,
            "overflow_y": null,
            "padding": null,
            "right": null,
            "top": null,
            "visibility": null,
            "width": null
          }
        },
        "71439a1474dc4adaa337d611538c7e94": {
          "model_module": "@jupyter-widgets/base",
          "model_module_version": "1.2.0",
          "model_name": "LayoutModel",
          "state": {
            "_model_module": "@jupyter-widgets/base",
            "_model_module_version": "1.2.0",
            "_model_name": "LayoutModel",
            "_view_count": null,
            "_view_module": "@jupyter-widgets/base",
            "_view_module_version": "1.2.0",
            "_view_name": "LayoutView",
            "align_content": null,
            "align_items": null,
            "align_self": null,
            "border": null,
            "bottom": null,
            "display": null,
            "flex": null,
            "flex_flow": null,
            "grid_area": null,
            "grid_auto_columns": null,
            "grid_auto_flow": null,
            "grid_auto_rows": null,
            "grid_column": null,
            "grid_gap": null,
            "grid_row": null,
            "grid_template_areas": null,
            "grid_template_columns": null,
            "grid_template_rows": null,
            "height": null,
            "justify_content": null,
            "justify_items": null,
            "left": null,
            "margin": null,
            "max_height": null,
            "max_width": null,
            "min_height": null,
            "min_width": null,
            "object_fit": null,
            "object_position": null,
            "order": null,
            "overflow": null,
            "overflow_x": null,
            "overflow_y": null,
            "padding": null,
            "right": null,
            "top": null,
            "visibility": null,
            "width": null
          }
        },
        "92f63d3a6f4f422c8b3c670c27ec1a56": {
          "model_module": "@jupyter-widgets/base",
          "model_module_version": "1.2.0",
          "model_name": "LayoutModel",
          "state": {
            "_model_module": "@jupyter-widgets/base",
            "_model_module_version": "1.2.0",
            "_model_name": "LayoutModel",
            "_view_count": null,
            "_view_module": "@jupyter-widgets/base",
            "_view_module_version": "1.2.0",
            "_view_name": "LayoutView",
            "align_content": null,
            "align_items": null,
            "align_self": null,
            "border": null,
            "bottom": null,
            "display": null,
            "flex": null,
            "flex_flow": null,
            "grid_area": null,
            "grid_auto_columns": null,
            "grid_auto_flow": null,
            "grid_auto_rows": null,
            "grid_column": null,
            "grid_gap": null,
            "grid_row": null,
            "grid_template_areas": null,
            "grid_template_columns": null,
            "grid_template_rows": null,
            "height": null,
            "justify_content": null,
            "justify_items": null,
            "left": null,
            "margin": null,
            "max_height": null,
            "max_width": null,
            "min_height": null,
            "min_width": null,
            "object_fit": null,
            "object_position": null,
            "order": null,
            "overflow": null,
            "overflow_x": null,
            "overflow_y": null,
            "padding": null,
            "right": null,
            "top": null,
            "visibility": null,
            "width": null
          }
        },
        "94fd72ce81da4dcdb87135f29a777ee3": {
          "model_module": "@jupyter-widgets/controls",
          "model_module_version": "1.5.0",
          "model_name": "DescriptionStyleModel",
          "state": {
            "_model_module": "@jupyter-widgets/controls",
            "_model_module_version": "1.5.0",
            "_model_name": "DescriptionStyleModel",
            "_view_count": null,
            "_view_module": "@jupyter-widgets/base",
            "_view_module_version": "1.2.0",
            "_view_name": "StyleView",
            "description_width": ""
          }
        },
        "9d0d2437b0fd486c9bac3a8d5fbaafe3": {
          "model_module": "@jupyter-widgets/base",
          "model_module_version": "1.2.0",
          "model_name": "LayoutModel",
          "state": {
            "_model_module": "@jupyter-widgets/base",
            "_model_module_version": "1.2.0",
            "_model_name": "LayoutModel",
            "_view_count": null,
            "_view_module": "@jupyter-widgets/base",
            "_view_module_version": "1.2.0",
            "_view_name": "LayoutView",
            "align_content": null,
            "align_items": null,
            "align_self": null,
            "border": null,
            "bottom": null,
            "display": null,
            "flex": null,
            "flex_flow": null,
            "grid_area": null,
            "grid_auto_columns": null,
            "grid_auto_flow": null,
            "grid_auto_rows": null,
            "grid_column": null,
            "grid_gap": null,
            "grid_row": null,
            "grid_template_areas": null,
            "grid_template_columns": null,
            "grid_template_rows": null,
            "height": null,
            "justify_content": null,
            "justify_items": null,
            "left": null,
            "margin": null,
            "max_height": null,
            "max_width": null,
            "min_height": null,
            "min_width": null,
            "object_fit": null,
            "object_position": null,
            "order": null,
            "overflow": null,
            "overflow_x": null,
            "overflow_y": null,
            "padding": null,
            "right": null,
            "top": null,
            "visibility": null,
            "width": null
          }
        },
        "b76d486357ce4efa9574d34e8535b7fe": {
          "model_module": "@jupyter-widgets/controls",
          "model_module_version": "1.5.0",
          "model_name": "FloatProgressModel",
          "state": {
            "_dom_classes": [],
            "_model_module": "@jupyter-widgets/controls",
            "_model_module_version": "1.5.0",
            "_model_name": "FloatProgressModel",
            "_view_count": null,
            "_view_module": "@jupyter-widgets/controls",
            "_view_module_version": "1.5.0",
            "_view_name": "ProgressView",
            "bar_style": "",
            "description": "",
            "description_tooltip": null,
            "layout": "IPY_MODEL_5c1f8c053c5b4228a46f54ceb16498fb",
            "max": 5000,
            "min": 0,
            "orientation": "horizontal",
            "style": "IPY_MODEL_dc4d77a0f33b4f3d8125c9abccee59c4",
            "value": 4677
          }
        },
        "dc4d77a0f33b4f3d8125c9abccee59c4": {
          "model_module": "@jupyter-widgets/controls",
          "model_module_version": "1.5.0",
          "model_name": "ProgressStyleModel",
          "state": {
            "_model_module": "@jupyter-widgets/controls",
            "_model_module_version": "1.5.0",
            "_model_name": "ProgressStyleModel",
            "_view_count": null,
            "_view_module": "@jupyter-widgets/base",
            "_view_module_version": "1.2.0",
            "_view_name": "StyleView",
            "bar_color": null,
            "description_width": ""
          }
        },
        "e2c9401a22e74bad854ca7ab88afc8b1": {
          "model_module": "@jupyter-widgets/controls",
          "model_module_version": "1.5.0",
          "model_name": "HTMLModel",
          "state": {
            "_dom_classes": [],
            "_model_module": "@jupyter-widgets/controls",
            "_model_module_version": "1.5.0",
            "_model_name": "HTMLModel",
            "_view_count": null,
            "_view_module": "@jupyter-widgets/controls",
            "_view_module_version": "1.5.0",
            "_view_name": "HTMLView",
            "description": "",
            "description_tooltip": null,
            "layout": "IPY_MODEL_92f63d3a6f4f422c8b3c670c27ec1a56",
            "placeholder": "​",
            "style": "IPY_MODEL_94fd72ce81da4dcdb87135f29a777ee3",
            "value": " 4677/5000 [41:13&lt;03:26,  1.56it/s, Train-Loss=-2.76, Best-Loss=-2.78, L1-[max, min, mean]=[11.36738, 0.10483, 1.5727], L2-[max, min, mean]=[14.33253, 0.13293, 2.00302]]"
          }
        }
      }
    }
  },
  "nbformat": 4,
  "nbformat_minor": 0
}

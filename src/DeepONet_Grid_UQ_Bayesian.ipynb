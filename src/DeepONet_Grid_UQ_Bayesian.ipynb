{
  "cells": [
    {
      "cell_type": "code",
      "execution_count": 2,
      "metadata": {
        "id": "vpmdvyi4YnPr"
      },
      "outputs": [],
      "source": [
        "#@title Configuration Parameters\n",
        "\n",
        "# NOTE: hyper-parameters must be tunned for best performance\n",
        "\n",
        "#@markdown General Parameters\n",
        "verbose = True        #@param {type: \"boolean\"}\n",
        "seed = 1234           #@param {type: \"integer\"}\n",
        "\n",
        "#@markdown DeepONet parameters\n",
        "m = 200                  #@param {type: \"integer\"} # of sensors  \n",
        "q = 10                   #@param {type: \"integer\"} # of sampling y's in Y\n",
        "n_basis = 100            #@param {type: \"integer\"} # of basis functions  \n",
        "branch_type = \"modified\" #@param [\"modified\", \"MLP\"]\n",
        "trunk_type = \"modified\"  #@param [\"modified\", \"MLP\"]\n",
        "width = 100              #@param {type: \"integer\"}\n",
        "depth = 4                #@param {type: \"integer\"}\n",
        "activation = \"sin\"       #@param [\"leaky\", \"silu\", \"Rrelu\", \"Mish\", \"sin\", \"relu\", \"tanh\", \"selu\", \"gelu\"]\n",
        "\n",
        "#@markdown training parameters\n",
        "learning_rate = 5e-5     #@param {type: \"raw\"}\n",
        "batch_size = 1000        #@param {type: \"integer\"}\n",
        "n_epochs = 5000          #@param {type: \"integer\"}\n",
        "\n",
        "#@markdown Data parameters\n",
        "version = \"v1\"\n",
        "state = \"voltage\"\n",
        "cont = \"mix\""
      ]
    },
    {
      "cell_type": "code",
      "execution_count": 3,
      "metadata": {
        "id": "FfyC8XCiYuqB"
      },
      "outputs": [],
      "source": [
        "#@title Imports\n",
        "import numpy as np\n",
        "import torch\n",
        "\n",
        "import utils.pytorch_utils as ptu\n",
        "\n",
        "from models.nns import DeepONet\n",
        "from training.supervisor import sghmc_train\n",
        "from utils.data_structures import data_generator, get_data, get_traj_data\n",
        "from utils.utils import compute_metrics, fraction_in_CI, init_params, l1_relative_error, l2_relative_error, plot_pred_UQ, test_sghmc, test_one, trajectory_rel_error, update_metrics_history"
      ]
    },
    {
      "cell_type": "code",
      "execution_count": 4,
      "metadata": {
        "colab": {
          "base_uri": "https://localhost:8080/"
        },
        "id": "aSw_A3-6YyY3",
        "outputId": "c1c8d31d-2282-4643-dedc-066c821a9507"
      },
      "outputs": [
        {
          "name": "stdout",
          "output_type": "stream",
          "text": [
            "Using GPU id 0\n"
          ]
        },
        {
          "data": {
            "text/plain": [
              "<torch._C.Generator at 0x7f20b46837b0>"
            ]
          },
          "execution_count": 4,
          "metadata": {},
          "output_type": "execute_result"
        }
      ],
      "source": [
        "#@title Main\n",
        "###################################\n",
        "# Step 1: initialize the device\n",
        "###################################\n",
        "ptu.init_gpu(verbose=verbose)\n",
        "\n",
        "###################################\n",
        "# Step 2: initialize the device\n",
        "###################################\n",
        "np.random.seed(seed=seed)\n",
        "torch.manual_seed(seed)"
      ]
    },
    {
      "cell_type": "code",
      "execution_count": 5,
      "metadata": {
        "colab": {
          "base_uri": "https://localhost:8080/"
        },
        "id": "3BP50zIrY0aH",
        "outputId": "9d035b58-eb77-412b-941c-b529e9109065"
      },
      "outputs": [
        {
          "name": "stdout",
          "output_type": "stream",
          "text": [
            "Shapes are: u (17490, 200), y (17490, 1), and s (17490, 1)\n",
            "Shapes are: u (600, 200), y (600, 1), and s (600, 1)\n",
            "the number of testing trajectories is 750\n"
          ]
        }
      ],
      "source": [
        "###################################\n",
        "# Step 3: get training and test trajectory data\n",
        "###################################\n",
        "train_path = \"./data/trustworthydataset\" + version + \"/train-data-\" + state + \"-m-\" + str(m) + \"-Q-\" + str(q) + \"-\" + cont + \".npz\"\n",
        "test_path = \"./data/trustworthydataset\" + version + \"/test-data-\" + state + \"-m-\" + str(m) + \"-\" + cont + \".npz\"\n",
        "\n",
        "u_train, y_train, s_train, t_sim = get_data(train_path, verbose=verbose)\n",
        "u_test, y_test, s_test = get_traj_data(test_path, verbose=verbose)\n",
        "\n",
        "if verbose:\n",
        "    print(\"the number of testing trajectories is {}\".format(len(u_test)))"
      ]
    },
    {
      "cell_type": "code",
      "execution_count": 6,
      "metadata": {
        "id": "9nZe1rYoY9Ol"
      },
      "outputs": [],
      "source": [
        "###################################\n",
        "# Step 4: move data to torch\n",
        "###################################\n",
        "u_torch_train = torch.from_numpy(u_train).float().to(ptu.device)\n",
        "y_torch_train = torch.from_numpy(y_train).float().to(ptu.device)\n",
        "s_torch_train = torch.from_numpy(s_train).float().to(ptu.device)\n",
        "\n",
        "# test data\n",
        "u_torch_test = []\n",
        "y_torch_test = []\n",
        "\n",
        "for k in range(len(u_test)):\n",
        "    u_torch_test.append(torch.from_numpy(u_test[k]).float().to(ptu.device))\n",
        "    y_torch_test.append(torch.from_numpy(y_test[k]).float().to(ptu.device))\n",
        "\n",
        "###################################\n",
        "# Step 5: define torch dataset\n",
        "###################################\n",
        "torch_data = data_generator(u_torch_train, y_torch_train, s_torch_train)"
      ]
    },
    {
      "cell_type": "code",
      "execution_count": 7,
      "metadata": {
        "colab": {
          "base_uri": "https://localhost:8080/"
        },
        "id": "mk05eHtCZFrh",
        "outputId": "2ce1c484-8d68-47d9-d546-4f8bab273679"
      },
      "outputs": [
        {
          "name": "stdout",
          "output_type": "stream",
          "text": [
            "DeepONet(\n",
            "  (branch): modified_MLP(\n",
            "    (net): ModuleList(\n",
            "      (0): Linear(in_features=200, out_features=100, bias=True)\n",
            "      (1): Linear(in_features=100, out_features=100, bias=True)\n",
            "      (2): Linear(in_features=100, out_features=100, bias=True)\n",
            "      (3): Linear(in_features=100, out_features=100, bias=True)\n",
            "      (4): Linear(in_features=100, out_features=100, bias=True)\n",
            "    )\n",
            "    (U): Sequential(\n",
            "      (0): Linear(in_features=200, out_features=100, bias=True)\n",
            "    )\n",
            "    (V): Sequential(\n",
            "      (0): Linear(in_features=200, out_features=100, bias=True)\n",
            "    )\n",
            "    (activation): sin_act()\n",
            "  )\n",
            "  (trunk): modified_MLP(\n",
            "    (net): ModuleList(\n",
            "      (0): Linear(in_features=1, out_features=100, bias=True)\n",
            "      (1): Linear(in_features=100, out_features=100, bias=True)\n",
            "      (2): Linear(in_features=100, out_features=100, bias=True)\n",
            "      (3): Linear(in_features=100, out_features=100, bias=True)\n",
            "      (4): Linear(in_features=100, out_features=100, bias=True)\n",
            "    )\n",
            "    (U): Sequential(\n",
            "      (0): Linear(in_features=1, out_features=100, bias=True)\n",
            "    )\n",
            "    (V): Sequential(\n",
            "      (0): Linear(in_features=1, out_features=100, bias=True)\n",
            "    )\n",
            "    (activation): sin_act()\n",
            "  )\n",
            ")\n"
          ]
        }
      ],
      "source": [
        "###################################\n",
        "# Step 6: build DeepONet\n",
        "###################################\n",
        "dim = 1\n",
        "n_sensors = m\n",
        "\n",
        "branch = {}\n",
        "branch[\"type\"] = branch_type\n",
        "branch[\"layer_size\"] = [n_sensors] + [width] * depth + [n_basis]\n",
        "branch[\"activation\"] = activation\n",
        "\n",
        "trunk = {}\n",
        "trunk[\"type\"] = trunk_type\n",
        "trunk[\"layer_size\"] = [dim] + [width] * depth + [n_basis]\n",
        "trunk[\"activation\"] = activation\n",
        "\n",
        "model = DeepONet(branch, trunk).to(ptu.device)\n",
        "\n",
        "if verbose:\n",
        "    print(model)"
      ]
    },
    {
      "cell_type": "code",
      "execution_count": 8,
      "metadata": {
        "colab": {
          "base_uri": "https://localhost:8080/"
        },
        "id": "kQadEmgKZVmJ",
        "outputId": "bb0dac2a-32c5-4625-d98c-80456cc25296"
      },
      "outputs": [
        {
          "name": "stdout",
          "output_type": "stream",
          "text": [
            "beta = 0.00000050\n",
            "alpha = 0.10000000\n",
            "self sigma = 0.00001414\n",
            "l1-relative errors: max=708.616, min=230.178, mean=425.566\n",
            "l2-relative errors: max=714.489, min=237.638, mean=427.674\n"
          ]
        }
      ],
      "source": [
        "###################################\n",
        "# Step 7: define training parameters\n",
        "###################################\n",
        "train_params = {}\n",
        "train_params[\"learning rate\"] = learning_rate\n",
        "train_params[\"batch size\"] = batch_size\n",
        "train_params[\"epochs\"] = n_epochs\n",
        "train_params[\"print every\"] = 10\n",
        "train_params[\"N\"] = u_train.shape[0]\n",
        "train_params[\"use grad norm\"] = True\n",
        "train_params[\"grad norm\"] = 1e2\n",
        "train_params[\"burn in\"] = 1000\n",
        "train_params[\"size test history\"] = 100\n",
        "\n",
        "###################################\n",
        "# Step 8: define sghmc parameters\n",
        "###################################\n",
        "sghmc_params = {}\n",
        "sghmc_params[\"eta\"] = 1e-5\n",
        "sghmc_params[\"v\"] = .1\n",
        "sghmc_params[\"alpha\"] = .1\n",
        "sghmc_params[\"beta\"] = .5 * sghmc_params[\"v\"] * sghmc_params[\"eta\"]\n",
        "sghmc_params[\"self sigma\"] = np.sqrt(2.0 * (sghmc_params[\"alpha\"] - sghmc_params[\"beta\"]) * sghmc_params[\"eta\"])\n",
        "tau = 1e-4\n",
        "sghmc_params[\"self sigma\"] *= np.sqrt(tau)\n",
        "sghmc_params[\"sigma\"] = 2.5\n",
        "\n",
        "if verbose:\n",
        "    print(\"beta = {:.8f}\".format(sghmc_params[\"beta\"]))\n",
        "    print(\"alpha = {:.8f}\".format(sghmc_params[\"alpha\"]))\n",
        "    print(\"self sigma = {:.8f}\".format(sghmc_params[\"self sigma\"]))\n",
        "\n",
        "###################################\n",
        "# Step 9: define metrics and losses\n",
        "###################################\n",
        "metrics = [l1_relative_error, l2_relative_error]\n",
        "L1_history = {}\n",
        "L1_history[\"max\"] = []\n",
        "L1_history[\"min\"] = []\n",
        "L1_history[\"mean\"] = []\n",
        "L2_history = {}\n",
        "L2_history[\"max\"] = []\n",
        "L2_history[\"min\"] = []\n",
        "L2_history[\"mean\"] = []\n",
        "\n",
        "###################################\n",
        "# Step 10: initial test\n",
        "###################################\n",
        "n_test_samples = 100\n",
        "u_torch_test_100 = u_torch_test[:n_test_samples]\n",
        "y_torch_test_100 = y_torch_test[:n_test_samples]\n",
        "s_test_100 = s_test[:n_test_samples]\n",
        "\n",
        "# we perform an initial test for the probabilistic model\n",
        "s_pred = test_sghmc(model, u_torch_test_100, y_torch_test_100)\n",
        "metrics_state = compute_metrics(s_test_100, s_pred, metrics, verbose=verbose)\n",
        "L1_history = update_metrics_history(L1_history, metrics_state[0])\n",
        "L2_history = update_metrics_history(L2_history, metrics_state[1])\n",
        "del metrics_state"
      ]
    },
    {
      "cell_type": "code",
      "execution_count": 9,
      "metadata": {
        "colab": {
          "base_uri": "https://localhost:8080/",
          "height": 131,
          "referenced_widgets": [
            "9217094adc424c6084c90252aa71cd0b",
            "eaa32cef4f254f1388f0e597c35f59de",
            "c361146e8f1042b3ac37216b7db1c545",
            "820fa97333ed4b3b819919a679f85901",
            "81b58497f1b94747be8ebfb73f3251e3",
            "3310f8c7e04640a9a3b2475a4a788719",
            "1dace2cdcb34403bbfc7095525d610bd",
            "d7a80dba45894ff6bca8c9df92be81ab",
            "c6b28de9971d4bc2923e79d0231726df",
            "e48d8d2ef2814f59b3ec9eb8044e8e1b",
            "4d2531a7b60f426db95d2ac90e816a74"
          ]
        },
        "id": "8m_H3sDL5g05",
        "outputId": "d14b7a19-6f22-40ad-a711-f84810abef42"
      },
      "outputs": [
        {
          "name": "stdout",
          "output_type": "stream",
          "text": [
            "\n",
            "***** SGHMC Training for 5000 epochs and using 17490 data samples*****\n",
            "\n"
          ]
        },
        {
          "data": {
            "application/vnd.jupyter.widget-view+json": {
              "model_id": "9217094adc424c6084c90252aa71cd0b",
              "version_major": 2,
              "version_minor": 0
            },
            "text/plain": [
              "  0%|          | 0/5000 [00:00<?, ?it/s]"
            ]
          },
          "metadata": {},
          "output_type": "display_data"
        }
      ],
      "source": [
        "###################################\n",
        "# Step 11: training\n",
        "###################################\n",
        "logger, loss_history = sghmc_train(\n",
        "    model,\n",
        "    torch_data,\n",
        "    train_params,\n",
        "    sghmc_params=sghmc_params,\n",
        "    verbose=verbose,\n",
        "    test_data=(u_torch_test_100, y_torch_test_100, s_test_100),\n",
        "    loss_history=(L1_history, L2_history),\n",
        "    metrics=metrics,\n",
        "    device=ptu.device,\n",
        "    )"
      ]
    },
    {
      "cell_type": "code",
      "execution_count": 10,
      "metadata": {
        "colab": {
          "base_uri": "https://localhost:8080/",
          "height": 295
        },
        "id": "ve_d4uvi68EL",
        "outputId": "efc33cb1-0458-41ce-9755-b2dc6d34385d"
      },
      "outputs": [
        {
          "data": {
            "image/png": "[encoded data removed]",
            "text/plain": [
              "<Figure size 432x288 with 1 Axes>"
            ]
          },
          "metadata": {
            "needs_background": "light"
          },
          "output_type": "display_data"
        }
      ],
      "source": [
        "#@title Postprocessing\n",
        "import matplotlib.pyplot as plt\n",
        "\n",
        "plt.figure()\n",
        "plt.semilogy(logger[\"ge\"])\n",
        "plt.title(\"Training loss\")\n",
        "plt.xlabel(\"epoch\")\n",
        "plt.ylabel(\"loss\")\n",
        "plt.show()"
      ]
    },
    {
      "cell_type": "code",
      "execution_count": 11,
      "metadata": {
        "colab": {
          "base_uri": "https://localhost:8080/",
          "height": 581
        },
        "id": "aRuibenU7Oqk",
        "outputId": "b135ae95-00b7-4f22-fb73-b0e719ea4c2a"
      },
      "outputs": [
        {
          "data": {
            "image/png": "[encoded data removed]",
            "text/plain": [
              "<Figure size 432x288 with 1 Axes>"
            ]
          },
          "metadata": {
            "needs_background": "light"
          },
          "output_type": "display_data"
        },
        {
          "data": {
            "image/png": "[encoded data removed]",
            "text/plain": [
              "<Figure size 432x288 with 1 Axes>"
            ]
          },
          "metadata": {
            "needs_background": "light"
          },
          "output_type": "display_data"
        }
      ],
      "source": [
        "# L1 plot\n",
        "plt.figure()\n",
        "plt.plot(L1_history[\"mean\"], \"r-\", label = \"SGHMC\")\n",
        "plt.legend(framealpha=1, frameon=False)\n",
        "plt.xlabel(\"epochs\")\n",
        "plt.ylabel(\"$L^1$ mean relative error %\")\n",
        "plt.title(\"$L^1$ error\")\n",
        "plt.show()\n",
        "\n",
        "# L2 plot\n",
        "plt.figure()\n",
        "plt.plot(L2_history[\"mean\"], \"r-\", label = \"SGHMC\")\n",
        "plt.legend(framealpha=1, frameon=False)\n",
        "plt.xlabel(\"epochs\")\n",
        "plt.ylabel(\"$L^2$ mean relative error %\")\n",
        "plt.title(\"$L^2$ error\")\n",
        "plt.show()"
      ]
    },
    {
      "cell_type": "code",
      "execution_count": 12,
      "metadata": {
        "colab": {
          "base_uri": "https://localhost:8080/",
          "height": 919
        },
        "id": "ovJnKl4w7-Mb",
        "outputId": "2daa772e-934e-4b28-90a3-9f0c2b824916"
      },
      "outputs": [
        {
          "name": "stdout",
          "output_type": "stream",
          "text": [
            "% of the true traj. within the error bars is 100.000\n",
            "% of the true traj. within the error bars is 100.000\n",
            "% of the true traj. within the error bars is 100.000\n",
            "ratios-[max, min, mean] = [100.0, 6.333333333333334, 86.625]\n",
            "Best mean relative errors: L1=1.90323 and L2=2.33356\n",
            "Standard deviation of relative errors: L1=1.94624 and L2=2.49127\n"
          ]
        },
        {
          "data": {
            "image/png": "[encoded data removed]",
            "text/plain": [
              "<Figure size 432x288 with 1 Axes>"
            ]
          },
          "metadata": {
            "needs_background": "light"
          },
          "output_type": "display_data"
        },
        {
          "data": {
            "image/png": "[encoded data removed]",
            "text/plain": [
              "<Figure size 432x288 with 1 Axes>"
            ]
          },
          "metadata": {
            "needs_background": "light"
          },
          "output_type": "display_data"
        },
        {
          "data": {
            "image/png": "[encoded data removed]",
            "text/plain": [
              "<Figure size 432x288 with 1 Axes>"
            ]
          },
          "metadata": {
            "needs_background": "light"
          },
          "output_type": "display_data"
        }
      ],
      "source": [
        "#@title Testing and UQ\n",
        "###################################\n",
        "# Step 1: define functions for testing and UQ\n",
        "###################################\n",
        "def extract(history, k):\n",
        "    return [item[k] for item in history]\n",
        "\n",
        "def eval_trajs(history, num, sensors, s, u, y, ratios, preds, errs, L1_test, L2_test, plot_num_traj=None, verbose=True):\n",
        "    for k in range(num):\n",
        "        pred_vec = np.hstack(extract(history, k))\n",
        "        pred_i = np.mean(pred_vec, axis=-1)\n",
        "        err_i = np.std(pred_vec, axis=-1)\n",
        "        if k in plot_num_traj:\n",
        "            plot_pred_UQ(sensors, u[k][0,:].reshape(-1,), y[k], s[k].reshape(-1,), pred_i.reshape(-1,), err_i.reshape(-1,), xlabel=\"$time~(s)$\", ylabel=\"voltage (p.u.)\", v_lims=False)\n",
        "            verbose_i = True\n",
        "        else:\n",
        "            verbose_i = False\n",
        "        ratio = fraction_in_CI(s[k].reshape(-1,), pred_i.reshape(-1,), err_i.reshape(-1,), verbose=verbose_i)\n",
        "        l1_error, l2_error =  trajectory_rel_error(s[k].reshape(-1,), pred_i.reshape(-1,), verbose=False) \n",
        "        # updating logs\n",
        "        preds.append(pred_i)\n",
        "        errs.append(err_i)\n",
        "        ratios.append(ratio)\n",
        "        L1_test.append(l1_error)\n",
        "        L2_test.append(l2_error)\n",
        "    if verbose:\n",
        "        print(\"ratios-[max, min, mean] = [{}, {}, {}]\".format(100 * np.max(ratios), 100 * np.min(ratios), 100 * np.mean(ratios)))\n",
        "        \n",
        "        mean_L1 = np.round(100 * np.mean(L1_test), decimals=5)\n",
        "        std_L1 = np.round(100 * np.std(L1_test), decimals=5)\n",
        "        mean_L2 = np.round(100 * np.mean(L2_test), decimals=5)\n",
        "        std_L2 = np.round(100 * np.std(L2_test), decimals=5)\n",
        "        print(\"Best mean relative errors: L1={} and L2={}\".format(mean_L1, mean_L2))\n",
        "        print(\"Standard deviation of relative errors: L1={} and L2={}\".format(std_L1, std_L2))\n",
        "    \n",
        "    return ratios, preds, errs, L1_test, L2_test\n",
        "\n",
        "L1_test = []\n",
        "L2_test = []\n",
        "mean_test = []\n",
        "std_test = []\n",
        "ratios = []\n",
        "\n",
        "###################################\n",
        "# Step 2: define input and number of test trajectories\n",
        "###################################\n",
        "t_input = np.linspace(0, 2.0, num=m)[:, None]\n",
        "n_test_trajs = 100\n",
        "plot_num_traj = [1, 10, 80]\n",
        "\n",
        "###################################\n",
        "# Step 2: evaluate trajectories\n",
        "###################################\n",
        "ratios, mean_test, std_test, L1_test, L2_test = eval_trajs(\n",
        "    logger[\"pred test\"], \n",
        "    n_test_trajs,\n",
        "    t_input,\n",
        "    s_test,\n",
        "    u_test,\n",
        "    y_test,\n",
        "    ratios,\n",
        "    mean_test,\n",
        "    std_test,\n",
        "    L1_test,\n",
        "    L2_test,\n",
        "    plot_num_traj=plot_num_traj,\n",
        "    verbose=verbose,\n",
        ")\n"
      ]
    },
    {
      "cell_type": "code",
      "execution_count": 12,
      "metadata": {
        "id": "_u5yGOoy-uRQ"
      },
      "outputs": [],
      "source": []
    }
  ],
  "metadata": {
    "accelerator": "GPU",
    "colab": {
      "provenance": []
    },
    "gpuClass": "standard",
    "kernelspec": {
      "display_name": "Python 3",
      "name": "python3"
    },
    "language_info": {
      "name": "python"
    },
    "widgets": {
      "application/vnd.jupyter.widget-state+json": {
        "1dace2cdcb34403bbfc7095525d610bd": {
          "model_module": "@jupyter-widgets/controls",
          "model_module_version": "1.5.0",
          "model_name": "DescriptionStyleModel",
          "state": {
            "_model_module": "@jupyter-widgets/controls",
            "_model_module_version": "1.5.0",
            "_model_name": "DescriptionStyleModel",
            "_view_count": null,
            "_view_module": "@jupyter-widgets/base",
            "_view_module_version": "1.2.0",
            "_view_name": "StyleView",
            "description_width": ""
          }
        },
        "3310f8c7e04640a9a3b2475a4a788719": {
          "model_module": "@jupyter-widgets/base",
          "model_module_version": "1.2.0",
          "model_name": "LayoutModel",
          "state": {
            "_model_module": "@jupyter-widgets/base",
            "_model_module_version": "1.2.0",
            "_model_name": "LayoutModel",
            "_view_count": null,
            "_view_module": "@jupyter-widgets/base",
            "_view_module_version": "1.2.0",
            "_view_name": "LayoutView",
            "align_content": null,
            "align_items": null,
            "align_self": null,
            "border": null,
            "bottom": null,
            "display": null,
            "flex": null,
            "flex_flow": null,
            "grid_area": null,
            "grid_auto_columns": null,
            "grid_auto_flow": null,
            "grid_auto_rows": null,
            "grid_column": null,
            "grid_gap": null,
            "grid_row": null,
            "grid_template_areas": null,
            "grid_template_columns": null,
            "grid_template_rows": null,
            "height": null,
            "justify_content": null,
            "justify_items": null,
            "left": null,
            "margin": null,
            "max_height": null,
            "max_width": null,
            "min_height": null,
            "min_width": null,
            "object_fit": null,
            "object_position": null,
            "order": null,
            "overflow": null,
            "overflow_x": null,
            "overflow_y": null,
            "padding": null,
            "right": null,
            "top": null,
            "visibility": null,
            "width": null
          }
        },
        "4d2531a7b60f426db95d2ac90e816a74": {
          "model_module": "@jupyter-widgets/controls",
          "model_module_version": "1.5.0",
          "model_name": "DescriptionStyleModel",
          "state": {
            "_model_module": "@jupyter-widgets/controls",
            "_model_module_version": "1.5.0",
            "_model_name": "DescriptionStyleModel",
            "_view_count": null,
            "_view_module": "@jupyter-widgets/base",
            "_view_module_version": "1.2.0",
            "_view_name": "StyleView",
            "description_width": ""
          }
        },
        "81b58497f1b94747be8ebfb73f3251e3": {
          "model_module": "@jupyter-widgets/base",
          "model_module_version": "1.2.0",
          "model_name": "LayoutModel",
          "state": {
            "_model_module": "@jupyter-widgets/base",
            "_model_module_version": "1.2.0",
            "_model_name": "LayoutModel",
            "_view_count": null,
            "_view_module": "@jupyter-widgets/base",
            "_view_module_version": "1.2.0",
            "_view_name": "LayoutView",
            "align_content": null,
            "align_items": null,
            "align_self": null,
            "border": null,
            "bottom": null,
            "display": null,
            "flex": null,
            "flex_flow": null,
            "grid_area": null,
            "grid_auto_columns": null,
            "grid_auto_flow": null,
            "grid_auto_rows": null,
            "grid_column": null,
            "grid_gap": null,
            "grid_row": null,
            "grid_template_areas": null,
            "grid_template_columns": null,
            "grid_template_rows": null,
            "height": null,
            "justify_content": null,
            "justify_items": null,
            "left": null,
            "margin": null,
            "max_height": null,
            "max_width": null,
            "min_height": null,
            "min_width": null,
            "object_fit": null,
            "object_position": null,
            "order": null,
            "overflow": null,
            "overflow_x": null,
            "overflow_y": null,
            "padding": null,
            "right": null,
            "top": null,
            "visibility": null,
            "width": null
          }
        },
        "820fa97333ed4b3b819919a679f85901": {
          "model_module": "@jupyter-widgets/controls",
          "model_module_version": "1.5.0",
          "model_name": "HTMLModel",
          "state": {
            "_dom_classes": [],
            "_model_module": "@jupyter-widgets/controls",
            "_model_module_version": "1.5.0",
            "_model_name": "HTMLModel",
            "_view_count": null,
            "_view_module": "@jupyter-widgets/controls",
            "_view_module_version": "1.5.0",
            "_view_name": "HTMLView",
            "description": "",
            "description_tooltip": null,
            "layout": "IPY_MODEL_e48d8d2ef2814f59b3ec9eb8044e8e1b",
            "placeholder": "​",
            "style": "IPY_MODEL_4d2531a7b60f426db95d2ac90e816a74",
            "value": " 5000/5000 [50:30&lt;00:00,  1.46it/s, ge=18.4, best-ge=14, L1-[max, min, mean]=[11.09402, 0.10928, 1.92922], L2-[max, min, mean]=[12.42144, 0.1302, 2.37011]]"
          }
        },
        "9217094adc424c6084c90252aa71cd0b": {
          "model_module": "@jupyter-widgets/controls",
          "model_module_version": "1.5.0",
          "model_name": "HBoxModel",
          "state": {
            "_dom_classes": [],
            "_model_module": "@jupyter-widgets/controls",
            "_model_module_version": "1.5.0",
            "_model_name": "HBoxModel",
            "_view_count": null,
            "_view_module": "@jupyter-widgets/controls",
            "_view_module_version": "1.5.0",
            "_view_name": "HBoxView",
            "box_style": "",
            "children": [
              "IPY_MODEL_eaa32cef4f254f1388f0e597c35f59de",
              "IPY_MODEL_c361146e8f1042b3ac37216b7db1c545",
              "IPY_MODEL_820fa97333ed4b3b819919a679f85901"
            ],
            "layout": "IPY_MODEL_81b58497f1b94747be8ebfb73f3251e3"
          }
        },
        "c361146e8f1042b3ac37216b7db1c545": {
          "model_module": "@jupyter-widgets/controls",
          "model_module_version": "1.5.0",
          "model_name": "FloatProgressModel",
          "state": {
            "_dom_classes": [],
            "_model_module": "@jupyter-widgets/controls",
            "_model_module_version": "1.5.0",
            "_model_name": "FloatProgressModel",
            "_view_count": null,
            "_view_module": "@jupyter-widgets/controls",
            "_view_module_version": "1.5.0",
            "_view_name": "ProgressView",
            "bar_style": "success",
            "description": "",
            "description_tooltip": null,
            "layout": "IPY_MODEL_d7a80dba45894ff6bca8c9df92be81ab",
            "max": 5000,
            "min": 0,
            "orientation": "horizontal",
            "style": "IPY_MODEL_c6b28de9971d4bc2923e79d0231726df",
            "value": 5000
          }
        },
        "c6b28de9971d4bc2923e79d0231726df": {
          "model_module": "@jupyter-widgets/controls",
          "model_module_version": "1.5.0",
          "model_name": "ProgressStyleModel",
          "state": {
            "_model_module": "@jupyter-widgets/controls",
            "_model_module_version": "1.5.0",
            "_model_name": "ProgressStyleModel",
            "_view_count": null,
            "_view_module": "@jupyter-widgets/base",
            "_view_module_version": "1.2.0",
            "_view_name": "StyleView",
            "bar_color": null,
            "description_width": ""
          }
        },
        "d7a80dba45894ff6bca8c9df92be81ab": {
          "model_module": "@jupyter-widgets/base",
          "model_module_version": "1.2.0",
          "model_name": "LayoutModel",
          "state": {
            "_model_module": "@jupyter-widgets/base",
            "_model_module_version": "1.2.0",
            "_model_name": "LayoutModel",
            "_view_count": null,
            "_view_module": "@jupyter-widgets/base",
            "_view_module_version": "1.2.0",
            "_view_name": "LayoutView",
            "align_content": null,
            "align_items": null,
            "align_self": null,
            "border": null,
            "bottom": null,
            "display": null,
            "flex": null,
            "flex_flow": null,
            "grid_area": null,
            "grid_auto_columns": null,
            "grid_auto_flow": null,
            "grid_auto_rows": null,
            "grid_column": null,
            "grid_gap": null,
            "grid_row": null,
            "grid_template_areas": null,
            "grid_template_columns": null,
            "grid_template_rows": null,
            "height": null,
            "justify_content": null,
            "justify_items": null,
            "left": null,
            "margin": null,
            "max_height": null,
            "max_width": null,
            "min_height": null,
            "min_width": null,
            "object_fit": null,
            "object_position": null,
            "order": null,
            "overflow": null,
            "overflow_x": null,
            "overflow_y": null,
            "padding": null,
            "right": null,
            "top": null,
            "visibility": null,
            "width": null
          }
        },
        "e48d8d2ef2814f59b3ec9eb8044e8e1b": {
          "model_module": "@jupyter-widgets/base",
          "model_module_version": "1.2.0",
          "model_name": "LayoutModel",
          "state": {
            "_model_module": "@jupyter-widgets/base",
            "_model_module_version": "1.2.0",
            "_model_name": "LayoutModel",
            "_view_count": null,
            "_view_module": "@jupyter-widgets/base",
            "_view_module_version": "1.2.0",
            "_view_name": "LayoutView",
            "align_content": null,
            "align_items": null,
            "align_self": null,
            "border": null,
            "bottom": null,
            "display": null,
            "flex": null,
            "flex_flow": null,
            "grid_area": null,
            "grid_auto_columns": null,
            "grid_auto_flow": null,
            "grid_auto_rows": null,
            "grid_column": null,
            "grid_gap": null,
            "grid_row": null,
            "grid_template_areas": null,
            "grid_template_columns": null,
            "grid_template_rows": null,
            "height": null,
            "justify_content": null,
            "justify_items": null,
            "left": null,
            "margin": null,
            "max_height": null,
            "max_width": null,
            "min_height": null,
            "min_width": null,
            "object_fit": null,
            "object_position": null,
            "order": null,
            "overflow": null,
            "overflow_x": null,
            "overflow_y": null,
            "padding": null,
            "right": null,
            "top": null,
            "visibility": null,
            "width": null
          }
        },
        "eaa32cef4f254f1388f0e597c35f59de": {
          "model_module": "@jupyter-widgets/controls",
          "model_module_version": "1.5.0",
          "model_name": "HTMLModel",
          "state": {
            "_dom_classes": [],
            "_model_module": "@jupyter-widgets/controls",
            "_model_module_version": "1.5.0",
            "_model_name": "HTMLModel",
            "_view_count": null,
            "_view_module": "@jupyter-widgets/controls",
            "_view_module_version": "1.5.0",
            "_view_name": "HTMLView",
            "description": "",
            "description_tooltip": null,
            "layout": "IPY_MODEL_3310f8c7e04640a9a3b2475a4a788719",
            "placeholder": "​",
            "style": "IPY_MODEL_1dace2cdcb34403bbfc7095525d610bd",
            "value": "100%"
          }
        }
      }
    }
  },
  "nbformat": 4,
  "nbformat_minor": 0
}
